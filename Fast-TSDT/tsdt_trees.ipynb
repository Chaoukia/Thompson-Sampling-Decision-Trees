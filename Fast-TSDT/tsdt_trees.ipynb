{
 "cells": [
  {
   "cell_type": "code",
   "execution_count": 1,
   "id": "28a12075-8a2b-45f1-b9fa-18f500f8c55b",
   "metadata": {},
   "outputs": [],
   "source": [
    "import matplotlib.pyplot as plt\n",
    "import seaborn as sns\n",
    "%matplotlib inline\n",
    "from tsdt import *\n",
    "from utils import *\n",
    "from skmultiflow.trees import HoeffdingTreeClassifier, ExtremelyFastDecisionTreeClassifier\n",
    "from skmultiflow.data import LEDGenerator\n",
    "from sklearn.model_selection import KFold\n",
    "from statistics import median, quantiles\n",
    "from matplotlib.lines import Line2D\n",
    "from time import time\n",
    "import pandas as pd\n",
    "import seaborn as sns\n",
    "import pickle as pkl\n",
    "import os\n",
    "\n",
    "from sklearn.preprocessing import OneHotEncoder"
   ]
  },
  {
   "cell_type": "markdown",
   "id": "c5f21340-8bc0-4288-93c1-dfd110eaa3c8",
   "metadata": {},
   "source": [
    "# MONK 1"
   ]
  },
  {
   "cell_type": "code",
   "execution_count": 2,
   "id": "7fe3a1ea-b9a2-4acc-816e-fa3db22707cd",
   "metadata": {},
   "outputs": [
    {
     "name": "stdout",
     "output_type": "stream",
     "text": [
      "n_train : 124\n",
      "n_test : 432\n"
     ]
    }
   ],
   "source": [
    "data_train = np.genfromtxt('../data/monks-1.train', delimiter=' ', dtype=int)\n",
    "#np.random.shuffle(data_train)\n",
    "data_train = data_train[:, :-1] # Getting rid of the last column, it contains only ids.\n",
    "data_train = data_train[:, ::-1]\n",
    "\n",
    "data_test = np.genfromtxt('../data/monks-1.test', delimiter=' ', dtype=int)\n",
    "data_test = data_test[:, :-1] # Getting rid of the last column, it contains only ids.\n",
    "data_test = data_test[:, ::-1]\n",
    "\n",
    "labels = set(data_train[:, -1])\n",
    "K = len(labels)\n",
    "print('n_train : %d' %data_train.shape[0])\n",
    "print('n_test : %d' %data_test.shape[0])"
   ]
  },
  {
   "cell_type": "markdown",
   "id": "a9779206-ab0d-4f55-a745-552bfe14dfca",
   "metadata": {},
   "source": [
    "## Drop Last"
   ]
  },
  {
   "cell_type": "code",
   "execution_count": 3,
   "id": "55059b34-87f9-44a5-8b3d-8a712beced13",
   "metadata": {},
   "outputs": [],
   "source": [
    "encoder = OneHotEncoder(drop=np.array([3, 3, 2, 3, 4, 2][::-1]+[0]), sparse=False)\n",
    "encoder.fit(data_train)\n",
    "data_train_encoded, data_test_encoded = encoder.transform(data_train).astype(int), encoder.transform(data_test).astype(int)\n",
    "stream_generator_train = StreamGeneratorReal(data_train_encoded)\n",
    "stream_generator_test = StreamGeneratorReal(data_test_encoded)"
   ]
  },
  {
   "cell_type": "code",
   "execution_count": 4,
   "id": "9d1f754d-0b7a-4459-a56f-1b5dc3705102",
   "metadata": {},
   "outputs": [],
   "source": [
    "n_iter = 1000\n",
    "n_samples = 100\n",
    "thresh_tree = -1e-6\n",
    "thresh_leaf = 1e-6\n",
    "thresh_mu = 0.8\n",
    "thresh_sigma = 0.1\n",
    "print_iter = 100\n",
    "time_limit = 300\n",
    "gamma = 0.75\n",
    "lambd = 0.01"
   ]
  },
  {
   "cell_type": "code",
   "execution_count": 5,
   "id": "48a188e0-dba9-469d-a53f-f4c8b55effc6",
   "metadata": {},
   "outputs": [
    {
     "name": "stdout",
     "output_type": "stream",
     "text": [
      "iteration : 0\n",
      "iteration : 100\n",
      "iteration : 200\n",
      "iteration : 300\n",
      "iteration : 400\n",
      "iteration : 500\n",
      "iteration : 600\n",
      "iteration : 700\n",
      "iteration : 800\n",
      "iteration : 900\n",
      "execution time : 17.7484\n"
     ]
    }
   ],
   "source": [
    "start_time = time()\n",
    "tsdt = TSDT(stream_generator_train.categories, K, 'gini')\n",
    "node, searchtree = tsdt.run(stream_generator_train, n_iter, n_samples, thresh_tree, thresh_leaf, thresh_mu, thresh_sigma, 'n_visits', lambd, gamma, print_iter, time_limit)\n",
    "print('execution time : %.4f' %(time() - start_time))"
   ]
  },
  {
   "cell_type": "code",
   "execution_count": 6,
   "id": "3deb6942-48ad-4705-bf19-2ef739c269dc",
   "metadata": {},
   "outputs": [
    {
     "data": {
      "image/png": "[encoded data removed]",
      "text/plain": [
       "Tree('', [Tree('X_1=0', [Tree('X_9=0', [Tree('X_7=0', [Tree('X_8=0', [Tree('X_10=0', []), Tree('X_10=1', [])]), Tree('X_8=1', [Tree('X_10=0', []), Tree('X_10=1', [])])]), Tree('X_7=1', [])]), Tree('X_9=1', [Tree('X_7=0', []), Tree('X_7=1', [])])]), Tree('X_1=1', [])])"
      ]
     },
     "execution_count": 6,
     "metadata": {},
     "output_type": "execute_result"
    }
   ],
   "source": [
    "node.tree.plot_tree()"
   ]
  },
  {
   "cell_type": "code",
   "execution_count": 7,
   "id": "5bf1304a-4fa1-454f-829b-3ec960b63d75",
   "metadata": {},
   "outputs": [
    {
     "name": "stdout",
     "output_type": "stream",
     "text": [
      "Number of Leaves: 8\n",
      "Number of Splits: 7\n"
     ]
    }
   ],
   "source": [
    "print('Number of Leaves:', len(node.tree.leaves))\n",
    "print('Number of Splits:', node.depth)"
   ]
  },
  {
   "cell_type": "code",
   "execution_count": 8,
   "id": "41c92f50-8982-4677-b28a-a8e7c46184ab",
   "metadata": {},
   "outputs": [
    {
     "name": "stdout",
     "output_type": "stream",
     "text": [
      "Train Accuracy : 1.000\n",
      "Test Accuracy : 1.000\n"
     ]
    }
   ],
   "source": [
    "print(\"Train Accuracy : %.3f\" %node.test(stream_generator_train, n=stream_generator_train.data.shape[0]))\n",
    "print(\"Test Accuracy : %.3f\" %node.test(stream_generator_test, n=stream_generator_test.data.shape[0]))"
   ]
  },
  {
   "cell_type": "code",
   "execution_count": 9,
   "id": "0f7288fb-347e-45cb-9a90-8a49a043c380",
   "metadata": {},
   "outputs": [
    {
     "data": {
      "image/png": "[encoded data removed]",
      "text/plain": [
       "Tree('', [Tree('X_1=0', [Tree('X_9=0', [Tree('X_7=0', [Tree('X_8=0', [Tree('X_10=0', []), Tree('X_10=1', [])]), Tree('X_8=1', [Tree('X_10=0', []), Tree('X_10=1', [])])]), Tree('X_7=1', [])]), Tree('X_9=1', [Tree('X_7=0', []), Tree('X_7=1', [])])]), Tree('X_1=1', [])])"
      ]
     },
     "execution_count": 9,
     "metadata": {},
     "output_type": "execute_result"
    }
   ],
   "source": [
    "node = searchtree.infer('max_value')\n",
    "node.tree.plot_tree()"
   ]
  },
  {
   "cell_type": "code",
   "execution_count": 10,
   "id": "a9bd7b63-b273-4e4b-a110-e0eff0fbe9f6",
   "metadata": {},
   "outputs": [
    {
     "name": "stdout",
     "output_type": "stream",
     "text": [
      "Train Accuracy : 1.000\n",
      "Test Accuracy : 1.000\n"
     ]
    }
   ],
   "source": [
    "print(\"Train Accuracy : %.3f\" %node.test(stream_generator_train, n=stream_generator_train.data.shape[0]))\n",
    "print(\"Test Accuracy : %.3f\" %node.test(stream_generator_test, n=stream_generator_test.data.shape[0]))"
   ]
  },
  {
   "cell_type": "markdown",
   "id": "23563694-4680-4d13-9e74-0066da0235db",
   "metadata": {},
   "source": [
    "## Drop First"
   ]
  },
  {
   "cell_type": "code",
   "execution_count": 3,
   "id": "8fc21df5-bc49-47b5-ad98-6f449d820a2b",
   "metadata": {},
   "outputs": [],
   "source": [
    "encoder = OneHotEncoder(drop='first', sparse=False)\n",
    "encoder.fit(data_train)\n",
    "data_train_encoded, data_test_encoded = encoder.transform(data_train).astype(int), encoder.transform(data_test).astype(int)\n",
    "stream_generator_train = StreamGeneratorReal(data_train_encoded)\n",
    "stream_generator_test = StreamGeneratorReal(data_test_encoded)"
   ]
  },
  {
   "cell_type": "code",
   "execution_count": 4,
   "id": "8eb6d289-0578-4fe9-89d4-5813e89d23ec",
   "metadata": {},
   "outputs": [],
   "source": [
    "n_iter = 10000\n",
    "n_samples = 100\n",
    "thresh_tree = -1e-6\n",
    "thresh_leaf = 1e-6\n",
    "thresh_mu = 0.8\n",
    "thresh_sigma = 0.1\n",
    "print_iter = 100\n",
    "time_limit = 300\n",
    "lambd = 0.0025\n",
    "gamma = 0.75"
   ]
  },
  {
   "cell_type": "code",
   "execution_count": 5,
   "id": "4c703aca-edb6-4ff4-9dec-cb4bd83215ef",
   "metadata": {
    "scrolled": true,
    "tags": []
   },
   "outputs": [
    {
     "name": "stdout",
     "output_type": "stream",
     "text": [
      "iteration : 0\n",
      "iteration : 100\n",
      "iteration : 200\n",
      "iteration : 300\n",
      "iteration : 400\n",
      "iteration : 500\n",
      "iteration : 600\n",
      "iteration : 700\n",
      "iteration : 800\n",
      "iteration : 900\n",
      "iteration : 1000\n",
      "iteration : 1100\n",
      "iteration : 1200\n",
      "iteration : 1300\n",
      "iteration : 1400\n",
      "iteration : 1500\n",
      "iteration : 1600\n",
      "iteration : 1700\n",
      "iteration : 1800\n",
      "iteration : 1900\n",
      "iteration : 2000\n",
      "iteration : 2100\n",
      "iteration : 2200\n",
      "iteration : 2300\n",
      "iteration : 2400\n",
      "iteration : 2500\n",
      "iteration : 2600\n",
      "iteration : 2700\n",
      "iteration : 2800\n",
      "iteration : 2900\n",
      "iteration : 3000\n",
      "iteration : 3100\n",
      "iteration : 3200\n",
      "iteration : 3300\n",
      "iteration : 3400\n",
      "iteration : 3500\n",
      "iteration : 3600\n",
      "iteration : 3700\n",
      "iteration : 3800\n",
      "iteration : 3900\n",
      "iteration : 4000\n",
      "iteration : 4100\n",
      "iteration : 4200\n",
      "iteration : 4300\n",
      "iteration : 4400\n",
      "iteration : 4500\n",
      "iteration : 4600\n",
      "iteration : 4700\n",
      "iteration : 4800\n",
      "iteration : 4900\n",
      "iteration : 5000\n",
      "iteration : 5100\n",
      "iteration : 5200\n",
      "iteration : 5300\n",
      "iteration : 5400\n",
      "iteration : 5500\n",
      "iteration : 5600\n",
      "iteration : 5700\n",
      "iteration : 5800\n",
      "iteration : 5900\n",
      "iteration : 6000\n",
      "iteration : 6100\n",
      "iteration : 6200\n",
      "iteration : 6300\n",
      "iteration : 6400\n",
      "iteration : 6500\n",
      "iteration : 6600\n",
      "iteration : 6700\n",
      "iteration : 6800\n",
      "iteration : 6900\n",
      "iteration : 7000\n",
      "iteration : 7100\n",
      "iteration : 7200\n",
      "iteration : 7300\n",
      "iteration : 7400\n",
      "iteration : 7500\n",
      "iteration : 7600\n",
      "iteration : 7700\n",
      "iteration : 7800\n",
      "iteration : 7900\n",
      "iteration : 8000\n",
      "iteration : 8100\n",
      "iteration : 8200\n",
      "iteration : 8300\n",
      "iteration : 8400\n",
      "iteration : 8500\n",
      "iteration : 8600\n",
      "iteration : 8700\n",
      "iteration : 8800\n",
      "iteration : 8900\n",
      "execution time : 300.0127\n"
     ]
    }
   ],
   "source": [
    "start_time = time()\n",
    "tsdt = TSDT(stream_generator_train.categories, K, 'gini')\n",
    "node, searchtree = tsdt.run(stream_generator_train, n_iter, n_samples, thresh_tree, thresh_leaf, thresh_mu, thresh_sigma, 'n_visits', lambd, gamma, print_iter, time_limit)\n",
    "print('execution time : %.4f' %(time() - start_time))"
   ]
  },
  {
   "cell_type": "code",
   "execution_count": 6,
   "id": "27697d32-ea03-44ce-aef3-3be854ad7177",
   "metadata": {},
   "outputs": [
    {
     "data": {
      "image/png": "[encoded data removed]",
      "text/plain": [
       "Tree('', [Tree('X_9=0', [Tree('X_10=0', [Tree('X_8=0', [Tree('X_7=0', []), Tree('X_7=1', [Tree('X_3=0', [Tree('X_2=0', [Tree('X_1=0', []), Tree('X_1=1', [])]), Tree('X_2=1', [])]), Tree('X_3=1', [])])]), Tree('X_8=1', [Tree('X_2=0', [Tree('X_3=0', [Tree('X_1=0', []), Tree('X_1=1', [])]), Tree('X_3=1', [])]), Tree('X_2=1', [])])]), Tree('X_10=1', [Tree('X_8=0', [Tree('X_1=0', [Tree('X_3=0', [Tree('X_2=0', []), Tree('X_2=1', [])]), Tree('X_3=1', [])]), Tree('X_1=1', [])]), Tree('X_8=1', [])])]), Tree('X_9=1', [Tree('X_7=0', [Tree('X_2=0', [Tree('X_3=0', [Tree('X_1=0', []), Tree('X_1=1', [])]), Tree('X_3=1', [])]), Tree('X_2=1', [])]), Tree('X_7=1', [])])])"
      ]
     },
     "execution_count": 6,
     "metadata": {},
     "output_type": "execute_result"
    }
   ],
   "source": [
    "node.tree.plot_tree()"
   ]
  },
  {
   "cell_type": "code",
   "execution_count": 7,
   "id": "951ec16c-5c6a-433a-948c-caf62fe22142",
   "metadata": {},
   "outputs": [
    {
     "name": "stdout",
     "output_type": "stream",
     "text": [
      "Number of Leaves: 19\n",
      "Number of Splits: 18\n"
     ]
    }
   ],
   "source": [
    "print('Number of Leaves:', len(node.tree.leaves))\n",
    "print('Number of Splits:', node.depth)"
   ]
  },
  {
   "cell_type": "code",
   "execution_count": 8,
   "id": "177c3a1d-d1a0-465e-9fea-47b5601115a2",
   "metadata": {},
   "outputs": [
    {
     "name": "stdout",
     "output_type": "stream",
     "text": [
      "Train Accuracy : 1.000\n",
      "Test Accuracy : 1.000\n"
     ]
    }
   ],
   "source": [
    "print(\"Train Accuracy : %.3f\" %node.test(stream_generator_train, n=stream_generator_train.data.shape[0]))\n",
    "print(\"Test Accuracy : %.3f\" %node.test(stream_generator_test, n=stream_generator_test.data.shape[0]))"
   ]
  },
  {
   "cell_type": "code",
   "execution_count": 9,
   "id": "c75d00c4-cb34-4ee5-82dc-466dea24c6b7",
   "metadata": {},
   "outputs": [
    {
     "data": {
      "image/png": "[encoded data removed]",
      "text/plain": [
       "Tree('', [Tree('X_9=0', [Tree('X_10=0', [Tree('X_8=0', [Tree('X_7=0', []), Tree('X_7=1', [Tree('X_3=0', [Tree('X_2=0', [Tree('X_1=0', []), Tree('X_1=1', [])]), Tree('X_2=1', [])]), Tree('X_3=1', [])])]), Tree('X_8=1', [Tree('X_2=0', [Tree('X_3=0', [Tree('X_1=0', []), Tree('X_1=1', [])]), Tree('X_3=1', [])]), Tree('X_2=1', [])])]), Tree('X_10=1', [Tree('X_8=0', [Tree('X_1=0', [Tree('X_3=0', [Tree('X_2=0', []), Tree('X_2=1', [])]), Tree('X_3=1', [])]), Tree('X_1=1', [])]), Tree('X_8=1', [])])]), Tree('X_9=1', [Tree('X_7=0', [Tree('X_2=0', [Tree('X_3=0', [Tree('X_1=0', []), Tree('X_1=1', [])]), Tree('X_3=1', [])]), Tree('X_2=1', [])]), Tree('X_7=1', [])])])"
      ]
     },
     "execution_count": 9,
     "metadata": {},
     "output_type": "execute_result"
    }
   ],
   "source": [
    "node = searchtree.infer('max_value')\n",
    "node.tree.plot_tree()"
   ]
  },
  {
   "cell_type": "code",
   "execution_count": 10,
   "id": "0642a055-3e0a-499d-be5f-fc24a62d508a",
   "metadata": {},
   "outputs": [
    {
     "name": "stdout",
     "output_type": "stream",
     "text": [
      "Number of Leaves: 19\n",
      "Number of Splits: 18\n"
     ]
    }
   ],
   "source": [
    "print('Number of Leaves:', len(node.tree.leaves))\n",
    "print('Number of Splits:', node.depth)"
   ]
  },
  {
   "cell_type": "code",
   "execution_count": 11,
   "id": "d0448cc0-adc2-4b1b-8ff3-24d7845a4aab",
   "metadata": {},
   "outputs": [
    {
     "name": "stdout",
     "output_type": "stream",
     "text": [
      "Train Accuracy : 1.000\n",
      "Test Accuracy : 1.000\n"
     ]
    }
   ],
   "source": [
    "print(\"Train Accuracy : %.3f\" %node.test(stream_generator_train, n=stream_generator_train.data.shape[0]))\n",
    "print(\"Test Accuracy : %.3f\" %node.test(stream_generator_test, n=stream_generator_test.data.shape[0]))"
   ]
  },
  {
   "cell_type": "markdown",
   "id": "ea32adf0-44a3-47bd-8667-dcb32a2b2f03",
   "metadata": {},
   "source": [
    "## Original"
   ]
  },
  {
   "cell_type": "code",
   "execution_count": 3,
   "id": "4f708154-351a-4075-8a2d-bb0248faeb9c",
   "metadata": {},
   "outputs": [],
   "source": [
    "stream_generator_train = StreamGeneratorReal(data_train)\n",
    "stream_generator_test = StreamGeneratorReal(data_test)"
   ]
  },
  {
   "cell_type": "code",
   "execution_count": 4,
   "id": "3e896210-856c-438c-a34c-cfc057027526",
   "metadata": {},
   "outputs": [],
   "source": [
    "n_iter = 1000\n",
    "n_samples = 100\n",
    "thresh_tree = -1e-6\n",
    "thresh_leaf = 1e-6\n",
    "thresh_mu = 0.8\n",
    "thresh_sigma = 0.1\n",
    "print_iter = 100\n",
    "time_limit = 300\n",
    "gamma = 0.75\n",
    "lambd = 0.01"
   ]
  },
  {
   "cell_type": "code",
   "execution_count": 5,
   "id": "76f9e399-cadf-4fc0-b67a-f1ad4819b95c",
   "metadata": {},
   "outputs": [
    {
     "name": "stdout",
     "output_type": "stream",
     "text": [
      "iteration : 0\n",
      "iteration : 100\n",
      "iteration : 200\n",
      "iteration : 300\n",
      "iteration : 400\n",
      "iteration : 500\n",
      "iteration : 600\n",
      "iteration : 700\n",
      "iteration : 800\n",
      "iteration : 900\n",
      "execution time : 19.0791\n"
     ]
    }
   ],
   "source": [
    "start_time = time()\n",
    "tsdt = TSDT(stream_generator_train.categories, K, 'gini')\n",
    "node, searchtree = tsdt.run(stream_generator_train, n_iter, n_samples, thresh_tree, thresh_leaf, thresh_mu, thresh_sigma, 'n_visits', lambd, gamma, print_iter, time_limit)\n",
    "print('execution time : %.4f' %(time() - start_time))"
   ]
  },
  {
   "cell_type": "code",
   "execution_count": 6,
   "id": "4517c63c-e4b3-451a-9e3c-6737235210b8",
   "metadata": {},
   "outputs": [
    {
     "data": {
      "image/png": "[encoded data removed]",
      "text/plain": [
       "Tree('', [Tree('X_5=0', [Tree('X_4=0', []), Tree('X_4=1', [Tree('X_1=0', []), Tree('X_1=1', []), Tree('X_1=2', []), Tree('X_1=3', [])]), Tree('X_4=2', [Tree('X_1=0', []), Tree('X_1=1', []), Tree('X_1=2', []), Tree('X_1=3', [])])]), Tree('X_5=1', [Tree('X_4=0', [Tree('X_1=0', []), Tree('X_1=1', []), Tree('X_1=2', []), Tree('X_1=3', [])]), Tree('X_4=1', []), Tree('X_4=2', [Tree('X_1=0', []), Tree('X_1=1', []), Tree('X_1=2', []), Tree('X_1=3', [])])]), Tree('X_5=2', [Tree('X_4=0', [Tree('X_1=0', []), Tree('X_1=1', []), Tree('X_1=2', []), Tree('X_1=3', [])]), Tree('X_4=1', [Tree('X_1=0', []), Tree('X_1=1', []), Tree('X_1=2', []), Tree('X_1=3', [])]), Tree('X_4=2', [])])])"
      ]
     },
     "execution_count": 6,
     "metadata": {},
     "output_type": "execute_result"
    }
   ],
   "source": [
    "node.tree.plot_tree()"
   ]
  },
  {
   "cell_type": "code",
   "execution_count": 7,
   "id": "a93ee39c-13a3-4a3d-8ffb-accc6d418fb3",
   "metadata": {},
   "outputs": [
    {
     "name": "stdout",
     "output_type": "stream",
     "text": [
      "Number of Leaves: 27\n",
      "Number of Splits: 10\n"
     ]
    }
   ],
   "source": [
    "print('Number of Leaves:', len(node.tree.leaves))\n",
    "print('Number of Splits:', node.depth)"
   ]
  },
  {
   "cell_type": "code",
   "execution_count": 8,
   "id": "ef972ff0-cd10-47b7-85ea-b32871f6b769",
   "metadata": {},
   "outputs": [
    {
     "name": "stdout",
     "output_type": "stream",
     "text": [
      "Train Accuracy : 1.000\n",
      "Test Accuracy : 1.000\n"
     ]
    }
   ],
   "source": [
    "print(\"Train Accuracy : %.3f\" %node.test(stream_generator_train, n=stream_generator_train.data.shape[0]))\n",
    "print(\"Test Accuracy : %.3f\" %node.test(stream_generator_test, n=stream_generator_test.data.shape[0]))"
   ]
  },
  {
   "cell_type": "code",
   "execution_count": 9,
   "id": "e60e9e02-7fda-47cf-8155-922cee69357d",
   "metadata": {},
   "outputs": [
    {
     "data": {
      "image/png": "[encoded data removed]",
      "text/plain": [
       "Tree('', [Tree('X_5=0', [Tree('X_4=0', []), Tree('X_4=1', [Tree('X_1=0', []), Tree('X_1=1', []), Tree('X_1=2', []), Tree('X_1=3', [])]), Tree('X_4=2', [Tree('X_1=0', []), Tree('X_1=1', []), Tree('X_1=2', []), Tree('X_1=3', [])])]), Tree('X_5=1', [Tree('X_4=0', [Tree('X_1=0', []), Tree('X_1=1', []), Tree('X_1=2', []), Tree('X_1=3', [])]), Tree('X_4=1', []), Tree('X_4=2', [Tree('X_1=0', []), Tree('X_1=1', []), Tree('X_1=2', []), Tree('X_1=3', [])])]), Tree('X_5=2', [Tree('X_4=0', [Tree('X_1=0', []), Tree('X_1=1', []), Tree('X_1=2', []), Tree('X_1=3', [])]), Tree('X_4=1', [Tree('X_1=0', []), Tree('X_1=1', []), Tree('X_1=2', []), Tree('X_1=3', [])]), Tree('X_4=2', [])])])"
      ]
     },
     "execution_count": 9,
     "metadata": {},
     "output_type": "execute_result"
    }
   ],
   "source": [
    "node = searchtree.infer('max_value')\n",
    "node.tree.plot_tree()"
   ]
  },
  {
   "cell_type": "code",
   "execution_count": 10,
   "id": "dbf0b341-7657-4dae-af8f-e2b035c8cc22",
   "metadata": {},
   "outputs": [
    {
     "name": "stdout",
     "output_type": "stream",
     "text": [
      "Number of Leaves: 27\n",
      "Number of Splits: 10\n"
     ]
    }
   ],
   "source": [
    "print('Number of Leaves:', len(node.tree.leaves))\n",
    "print('Number of Splits:', node.depth)"
   ]
  },
  {
   "cell_type": "code",
   "execution_count": 11,
   "id": "44497a2b-2942-4618-b6d6-ced233b047d4",
   "metadata": {},
   "outputs": [
    {
     "name": "stdout",
     "output_type": "stream",
     "text": [
      "Train Accuracy : 1.000\n",
      "Test Accuracy : 1.000\n"
     ]
    }
   ],
   "source": [
    "print(\"Train Accuracy : %.3f\" %node.test(stream_generator_train, n=stream_generator_train.data.shape[0]))\n",
    "print(\"Test Accuracy : %.3f\" %node.test(stream_generator_test, n=stream_generator_test.data.shape[0]))"
   ]
  },
  {
   "cell_type": "markdown",
   "id": "85aa1293-0895-4365-82e3-b61007781e4d",
   "metadata": {},
   "source": [
    "# Monk 2"
   ]
  },
  {
   "cell_type": "code",
   "execution_count": 2,
   "id": "348cc150-e98b-44c6-842c-d062550c2262",
   "metadata": {},
   "outputs": [
    {
     "name": "stdout",
     "output_type": "stream",
     "text": [
      "(169, 12)\n"
     ]
    }
   ],
   "source": [
    "file = '../data/monk2-train.csv'\n",
    "data = pd.DataFrame(pd.read_csv(file, sep=\";\")).values\n",
    "#np.random.shuffle(data)\n",
    "labels = set(data[:, -1])\n",
    "K = len(labels)\n",
    "print(data.shape)\n",
    "\n",
    "kf = KFold(shuffle=True, random_state=256)\n",
    "train_index, test_index = next(kf.split(data))"
   ]
  },
  {
   "cell_type": "code",
   "execution_count": 3,
   "id": "4c278dc1-9e30-4214-b931-7c5ced875078",
   "metadata": {},
   "outputs": [],
   "source": [
    "data_train_fold = data[train_index]\n",
    "data_test_fold = data[test_index]\n",
    "stream_generator_train = StreamGeneratorReal(data_train_fold)\n",
    "stream_generator_test = StreamGeneratorReal(data_test_fold)"
   ]
  },
  {
   "cell_type": "code",
   "execution_count": 4,
   "id": "687111a5-d4db-4cc8-840a-f2bd16c9a63f",
   "metadata": {},
   "outputs": [],
   "source": [
    "n_iter = 10000\n",
    "n_samples = 100\n",
    "thresh_tree = -1e-6\n",
    "thresh_leaf = 1e-6\n",
    "thresh_mu = 0.8\n",
    "thresh_sigma = 0.1\n",
    "print_iter = 100\n",
    "time_limit = 600\n",
    "lambd = 0.01\n",
    "gamma = 0.75"
   ]
  },
  {
   "cell_type": "code",
   "execution_count": 5,
   "id": "fb3b3c51-16b2-4495-83a0-eaea051535fc",
   "metadata": {
    "scrolled": true,
    "tags": []
   },
   "outputs": [
    {
     "name": "stdout",
     "output_type": "stream",
     "text": [
      "iteration : 0\n",
      "iteration : 100\n",
      "iteration : 200\n",
      "iteration : 300\n",
      "iteration : 400\n",
      "iteration : 500\n",
      "iteration : 600\n",
      "iteration : 700\n",
      "iteration : 800\n",
      "iteration : 900\n",
      "iteration : 1000\n",
      "iteration : 1100\n",
      "iteration : 1200\n",
      "iteration : 1300\n",
      "iteration : 1400\n",
      "iteration : 1500\n",
      "iteration : 1600\n",
      "iteration : 1700\n",
      "iteration : 1800\n",
      "iteration : 1900\n",
      "iteration : 2000\n",
      "iteration : 2100\n",
      "iteration : 2200\n",
      "iteration : 2300\n",
      "iteration : 2400\n",
      "iteration : 2500\n",
      "iteration : 2600\n",
      "iteration : 2700\n",
      "iteration : 2800\n",
      "iteration : 2900\n",
      "iteration : 3000\n",
      "iteration : 3100\n",
      "iteration : 3200\n",
      "iteration : 3300\n",
      "iteration : 3400\n",
      "iteration : 3500\n",
      "iteration : 3600\n",
      "iteration : 3700\n",
      "iteration : 3800\n",
      "iteration : 3900\n",
      "iteration : 4000\n",
      "iteration : 4100\n",
      "iteration : 4200\n",
      "iteration : 4300\n",
      "iteration : 4400\n",
      "iteration : 4500\n",
      "iteration : 4600\n",
      "iteration : 4700\n",
      "iteration : 4800\n",
      "iteration : 4900\n",
      "iteration : 5000\n",
      "iteration : 5100\n",
      "iteration : 5200\n",
      "iteration : 5300\n",
      "iteration : 5400\n",
      "iteration : 5500\n",
      "iteration : 5600\n",
      "iteration : 5700\n",
      "iteration : 5800\n",
      "iteration : 5900\n",
      "iteration : 6000\n",
      "iteration : 6100\n",
      "iteration : 6200\n",
      "iteration : 6300\n",
      "iteration : 6400\n",
      "iteration : 6500\n",
      "iteration : 6600\n",
      "iteration : 6700\n",
      "iteration : 6800\n",
      "iteration : 6900\n",
      "iteration : 7000\n",
      "iteration : 7100\n",
      "iteration : 7200\n",
      "iteration : 7300\n",
      "iteration : 7400\n",
      "iteration : 7500\n",
      "iteration : 7600\n",
      "iteration : 7700\n",
      "iteration : 7800\n",
      "iteration : 7900\n",
      "iteration : 8000\n",
      "iteration : 8100\n",
      "iteration : 8200\n",
      "iteration : 8300\n",
      "iteration : 8400\n",
      "iteration : 8500\n",
      "iteration : 8600\n",
      "iteration : 8700\n",
      "iteration : 8800\n",
      "iteration : 8900\n",
      "iteration : 9000\n",
      "iteration : 9100\n",
      "iteration : 9200\n",
      "iteration : 9300\n",
      "iteration : 9400\n",
      "iteration : 9500\n",
      "iteration : 9600\n",
      "iteration : 9700\n",
      "iteration : 9800\n",
      "iteration : 9900\n",
      "execution time : 243.2573\n"
     ]
    }
   ],
   "source": [
    "start_time = time()\n",
    "tsdt = TSDT(stream_generator_train.categories, K, 'gini')\n",
    "node, searchtree = tsdt.run(stream_generator_train, n_iter, n_samples, thresh_tree, thresh_leaf, thresh_mu, thresh_sigma, 'n_visits', lambd, gamma, print_iter, time_limit)\n",
    "print('execution time : %.4f' %(time() - start_time))"
   ]
  },
  {
   "cell_type": "code",
   "execution_count": 6,
   "id": "40580ea0-6259-43b8-ac6d-67da5828ad10",
   "metadata": {},
   "outputs": [
    {
     "data": {
      "image/png": "[encoded data removed]",
      "text/plain": [
       "Tree('', [Tree('X_5=0', [Tree('X_7=0', [Tree('X_4=0', [Tree('X_0=0', []), Tree('X_0=1', [Tree('X_9=0', []), Tree('X_9=1', [])])]), Tree('X_4=1', [Tree('X_0=0', [Tree('X_10=0', [Tree('X_2=0', []), Tree('X_2=1', [])]), Tree('X_10=1', [Tree('X_2=0', []), Tree('X_2=1', [])])]), Tree('X_0=1', [Tree('X_10=0', []), Tree('X_10=1', [])])])]), Tree('X_7=1', [Tree('X_4=0', [Tree('X_0=0', []), Tree('X_0=1', [])]), Tree('X_4=1', [])])]), Tree('X_5=1', [Tree('X_10=0', [Tree('X_9=0', []), Tree('X_9=1', [])]), Tree('X_10=1', [])])])"
      ]
     },
     "execution_count": 6,
     "metadata": {},
     "output_type": "execute_result"
    }
   ],
   "source": [
    "node.tree.plot_tree()"
   ]
  },
  {
   "cell_type": "code",
   "execution_count": 7,
   "id": "81812d66-d860-4c24-983c-6b08cb6a8cb6",
   "metadata": {},
   "outputs": [
    {
     "name": "stdout",
     "output_type": "stream",
     "text": [
      "Number of Leaves: 15\n",
      "Number of Splits: 14\n"
     ]
    }
   ],
   "source": [
    "print('Number of Leaves:', len(node.tree.leaves))\n",
    "print('Number of Splits:', node.depth)"
   ]
  },
  {
   "cell_type": "code",
   "execution_count": 8,
   "id": "c686ab3c-faca-4cfa-b3c3-fa3a9bfa1ec9",
   "metadata": {},
   "outputs": [
    {
     "name": "stdout",
     "output_type": "stream",
     "text": [
      "Train Accuracy : 0.874\n",
      "Test Accuracy : 0.735\n"
     ]
    }
   ],
   "source": [
    "print(\"Train Accuracy : %.3f\" %node.test(stream_generator_train, n=stream_generator_train.data.shape[0]))\n",
    "print(\"Test Accuracy : %.3f\" %node.test(stream_generator_test, n=stream_generator_test.data.shape[0]))"
   ]
  },
  {
   "cell_type": "code",
   "execution_count": 9,
   "id": "72a92537-e8ea-4440-944f-f78efb61bc39",
   "metadata": {},
   "outputs": [
    {
     "data": {
      "image/png": "[encoded data removed]",
      "text/plain": [
       "Tree('', [Tree('X_5=0', [Tree('X_7=0', [Tree('X_4=0', [Tree('X_0=0', []), Tree('X_0=1', [Tree('X_9=0', []), Tree('X_9=1', [])])]), Tree('X_4=1', [Tree('X_0=0', [Tree('X_10=0', [Tree('X_2=0', []), Tree('X_2=1', [])]), Tree('X_10=1', [Tree('X_2=0', []), Tree('X_2=1', [])])]), Tree('X_0=1', [Tree('X_10=0', []), Tree('X_10=1', [])])])]), Tree('X_7=1', [Tree('X_4=0', [Tree('X_0=0', []), Tree('X_0=1', [])]), Tree('X_4=1', [])])]), Tree('X_5=1', [Tree('X_10=0', [Tree('X_9=0', []), Tree('X_9=1', [])]), Tree('X_10=1', [])])])"
      ]
     },
     "execution_count": 9,
     "metadata": {},
     "output_type": "execute_result"
    }
   ],
   "source": [
    "node = searchtree.infer('max_value')\n",
    "node.tree.plot_tree()"
   ]
  },
  {
   "cell_type": "code",
   "execution_count": 10,
   "id": "763203f5-5298-4c83-b4a3-93e5502b25fa",
   "metadata": {},
   "outputs": [
    {
     "name": "stdout",
     "output_type": "stream",
     "text": [
      "Number of Leaves: 15\n",
      "Number of Splits: 14\n"
     ]
    }
   ],
   "source": [
    "print('Number of Leaves:', len(node.tree.leaves))\n",
    "print('Number of Splits:', node.depth)"
   ]
  },
  {
   "cell_type": "code",
   "execution_count": 11,
   "id": "4dee3314-1509-4003-b78e-aa0763aea9e2",
   "metadata": {},
   "outputs": [
    {
     "name": "stdout",
     "output_type": "stream",
     "text": [
      "Train Accuracy : 0.874\n",
      "Test Accuracy : 0.735\n"
     ]
    }
   ],
   "source": [
    "print(\"Train Accuracy : %.3f\" %node.test(stream_generator_train, n=stream_generator_train.data.shape[0]))\n",
    "print(\"Test Accuracy : %.3f\" %node.test(stream_generator_test, n=stream_generator_test.data.shape[0]))"
   ]
  },
  {
   "cell_type": "markdown",
   "id": "72dc2931-4139-4ebc-af29-5b41fd0804a5",
   "metadata": {},
   "source": [
    "# Monk 3"
   ]
  },
  {
   "cell_type": "code",
   "execution_count": 2,
   "id": "2d117991-5131-4bb3-9412-b8eee8ebf682",
   "metadata": {},
   "outputs": [
    {
     "name": "stdout",
     "output_type": "stream",
     "text": [
      "(122, 12)\n"
     ]
    }
   ],
   "source": [
    "file = '../data/monk3-train.csv'\n",
    "data = pd.DataFrame(pd.read_csv(file, sep=\";\")).values\n",
    "#np.random.shuffle(data)\n",
    "labels = set(data[:, -1])\n",
    "K = len(labels)\n",
    "print(data.shape)\n",
    "\n",
    "kf = KFold(shuffle=True, random_state=256)\n",
    "train_index, test_index = next(kf.split(data))"
   ]
  },
  {
   "cell_type": "code",
   "execution_count": 3,
   "id": "667a9176-1632-42de-9ba7-f96e83c0dc52",
   "metadata": {},
   "outputs": [],
   "source": [
    "data_train_fold = data[train_index]\n",
    "data_test_fold = data[test_index]\n",
    "stream_generator_train = StreamGeneratorReal(data_train_fold)\n",
    "stream_generator_test = StreamGeneratorReal(data_test_fold)"
   ]
  },
  {
   "cell_type": "code",
   "execution_count": 4,
   "id": "fa215166-161a-467e-87ab-e8357a4ea300",
   "metadata": {},
   "outputs": [],
   "source": [
    "n_iter = 10000\n",
    "n_samples = 100\n",
    "thresh_tree = -1e-6\n",
    "thresh_leaf = 1e-6\n",
    "thresh_mu = 0.8\n",
    "thresh_sigma = 0.1\n",
    "print_iter = 100\n",
    "time_limit = 600\n",
    "lambd = 0.01\n",
    "gamma = 0.75"
   ]
  },
  {
   "cell_type": "code",
   "execution_count": 5,
   "id": "ba073ba8-ca98-4613-b56f-7b3e9b6d65c3",
   "metadata": {
    "scrolled": true,
    "tags": []
   },
   "outputs": [
    {
     "name": "stdout",
     "output_type": "stream",
     "text": [
      "iteration : 0\n",
      "iteration : 100\n",
      "iteration : 200\n",
      "iteration : 300\n",
      "iteration : 400\n",
      "iteration : 500\n",
      "iteration : 600\n",
      "iteration : 700\n",
      "iteration : 800\n",
      "iteration : 900\n",
      "iteration : 1000\n",
      "iteration : 1100\n",
      "iteration : 1200\n",
      "iteration : 1300\n",
      "iteration : 1400\n",
      "iteration : 1500\n",
      "iteration : 1600\n",
      "iteration : 1700\n",
      "iteration : 1800\n",
      "iteration : 1900\n",
      "iteration : 2000\n",
      "iteration : 2100\n",
      "iteration : 2200\n",
      "iteration : 2300\n",
      "iteration : 2400\n",
      "iteration : 2500\n",
      "iteration : 2600\n",
      "iteration : 2700\n",
      "iteration : 2800\n",
      "iteration : 2900\n",
      "iteration : 3000\n",
      "iteration : 3100\n",
      "iteration : 3200\n",
      "iteration : 3300\n",
      "iteration : 3400\n",
      "iteration : 3500\n",
      "iteration : 3600\n",
      "iteration : 3700\n",
      "iteration : 3800\n",
      "iteration : 3900\n",
      "iteration : 4000\n",
      "iteration : 4100\n",
      "iteration : 4200\n",
      "iteration : 4300\n",
      "iteration : 4400\n",
      "iteration : 4500\n",
      "iteration : 4600\n",
      "iteration : 4700\n",
      "iteration : 4800\n",
      "iteration : 4900\n",
      "iteration : 5000\n",
      "iteration : 5100\n",
      "iteration : 5200\n",
      "iteration : 5300\n",
      "iteration : 5400\n",
      "iteration : 5500\n",
      "iteration : 5600\n",
      "iteration : 5700\n",
      "iteration : 5800\n",
      "iteration : 5900\n",
      "iteration : 6000\n",
      "iteration : 6100\n",
      "iteration : 6200\n",
      "iteration : 6300\n",
      "iteration : 6400\n",
      "iteration : 6500\n",
      "iteration : 6600\n",
      "iteration : 6700\n",
      "iteration : 6800\n",
      "iteration : 6900\n",
      "iteration : 7000\n",
      "iteration : 7100\n",
      "iteration : 7200\n",
      "iteration : 7300\n",
      "iteration : 7400\n",
      "iteration : 7500\n",
      "iteration : 7600\n",
      "iteration : 7700\n",
      "iteration : 7800\n",
      "iteration : 7900\n",
      "iteration : 8000\n",
      "iteration : 8100\n",
      "iteration : 8200\n",
      "iteration : 8300\n",
      "iteration : 8400\n",
      "iteration : 8500\n",
      "iteration : 8600\n",
      "iteration : 8700\n",
      "iteration : 8800\n",
      "iteration : 8900\n",
      "iteration : 9000\n",
      "iteration : 9100\n",
      "iteration : 9200\n",
      "iteration : 9300\n",
      "iteration : 9400\n",
      "iteration : 9500\n",
      "iteration : 9600\n",
      "iteration : 9700\n",
      "iteration : 9800\n",
      "iteration : 9900\n",
      "execution time : 266.4881\n"
     ]
    }
   ],
   "source": [
    "start_time = time()\n",
    "tsdt = TSDT(stream_generator_train.categories, K, 'gini')\n",
    "node, searchtree = tsdt.run(stream_generator_train, n_iter, n_samples, thresh_tree, thresh_leaf, thresh_mu, thresh_sigma, 'n_visits', lambd, gamma, print_iter, time_limit)\n",
    "print('execution time : %.4f' %(time() - start_time))"
   ]
  },
  {
   "cell_type": "code",
   "execution_count": 6,
   "id": "e5227b4e-1367-4bec-ba14-445d3d19f9d8",
   "metadata": {},
   "outputs": [
    {
     "data": {
      "image/png": "[encoded data removed]",
      "text/plain": [
       "Tree('', [Tree('X_3=0', [Tree('X_2=0', []), Tree('X_2=1', [Tree('X_8=0', [Tree('X_7=0', [Tree('X_9=0', []), Tree('X_9=1', [Tree('X_5=0', []), Tree('X_5=1', [])])]), Tree('X_7=1', [])]), Tree('X_8=1', [])])]), Tree('X_3=1', [Tree('X_8=0', [Tree('X_7=0', [Tree('X_9=0', []), Tree('X_9=1', [])]), Tree('X_7=1', [])]), Tree('X_8=1', [])])])"
      ]
     },
     "execution_count": 6,
     "metadata": {},
     "output_type": "execute_result"
    }
   ],
   "source": [
    "node.tree.plot_tree()"
   ]
  },
  {
   "cell_type": "code",
   "execution_count": 7,
   "id": "4b834ccf-63a9-4d24-8192-e6dbb5ac7b5f",
   "metadata": {},
   "outputs": [
    {
     "name": "stdout",
     "output_type": "stream",
     "text": [
      "Number of Leaves: 10\n",
      "Number of Splits: 9\n"
     ]
    }
   ],
   "source": [
    "print('Number of Leaves:', len(node.tree.leaves))\n",
    "print('Number of Splits:', node.depth)"
   ]
  },
  {
   "cell_type": "code",
   "execution_count": 8,
   "id": "4b7bddd7-7df3-4ec3-a331-0177650cbdd1",
   "metadata": {},
   "outputs": [
    {
     "name": "stdout",
     "output_type": "stream",
     "text": [
      "Train Accuracy : 0.948\n",
      "Test Accuracy : 0.880\n"
     ]
    }
   ],
   "source": [
    "print(\"Train Accuracy : %.3f\" %node.test(stream_generator_train, n=stream_generator_train.data.shape[0]))\n",
    "print(\"Test Accuracy : %.3f\" %node.test(stream_generator_test, n=stream_generator_test.data.shape[0]))"
   ]
  },
  {
   "cell_type": "code",
   "execution_count": 9,
   "id": "e727ff39-abe5-4ed8-af3c-694fb9c5d22c",
   "metadata": {},
   "outputs": [
    {
     "data": {
      "image/png": "[encoded data removed]",
      "text/plain": [
       "Tree('', [Tree('X_3=0', [Tree('X_2=0', []), Tree('X_2=1', [Tree('X_8=0', [Tree('X_7=0', [Tree('X_9=0', []), Tree('X_9=1', [Tree('X_4=0', []), Tree('X_4=1', [])])]), Tree('X_7=1', [])]), Tree('X_8=1', [])])]), Tree('X_3=1', [Tree('X_8=0', [Tree('X_7=0', [Tree('X_9=0', []), Tree('X_9=1', [])]), Tree('X_7=1', [])]), Tree('X_8=1', [])])])"
      ]
     },
     "execution_count": 9,
     "metadata": {},
     "output_type": "execute_result"
    }
   ],
   "source": [
    "node = searchtree.infer('max_value')\n",
    "node.tree.plot_tree()"
   ]
  },
  {
   "cell_type": "code",
   "execution_count": 10,
   "id": "9b2792d1-7d75-4f61-b2bb-a01084913f4b",
   "metadata": {},
   "outputs": [
    {
     "name": "stdout",
     "output_type": "stream",
     "text": [
      "Number of Leaves: 10\n",
      "Number of Splits: 9\n"
     ]
    }
   ],
   "source": [
    "print('Number of Leaves:', len(node.tree.leaves))\n",
    "print('Number of Splits:', node.depth)"
   ]
  },
  {
   "cell_type": "code",
   "execution_count": 11,
   "id": "db1b43f0-34d1-4870-b743-f4ef9b55c3a7",
   "metadata": {},
   "outputs": [
    {
     "name": "stdout",
     "output_type": "stream",
     "text": [
      "Train Accuracy : 0.948\n",
      "Test Accuracy : 0.840\n"
     ]
    }
   ],
   "source": [
    "print(\"Train Accuracy : %.3f\" %node.test(stream_generator_train, n=stream_generator_train.data.shape[0]))\n",
    "print(\"Test Accuracy : %.3f\" %node.test(stream_generator_test, n=stream_generator_test.data.shape[0]))"
   ]
  },
  {
   "cell_type": "markdown",
   "id": "83ac2205-3ebb-40e7-a04f-6432cfefb051",
   "metadata": {},
   "source": [
    "# Tic-Tac-Toe"
   ]
  },
  {
   "cell_type": "code",
   "execution_count": 2,
   "id": "6d4cccab-b90a-4d62-83a6-64aa76227fdf",
   "metadata": {},
   "outputs": [
    {
     "name": "stdout",
     "output_type": "stream",
     "text": [
      "(958, 19)\n"
     ]
    }
   ],
   "source": [
    "file = '../data/tic-tac-toe.csv'\n",
    "data = pd.DataFrame(pd.read_csv(file, sep=\";\")).values\n",
    "np.random.shuffle(data)\n",
    "labels = set(data[:, -1])\n",
    "K = len(labels)\n",
    "print(data.shape)\n",
    "\n",
    "kf = KFold(shuffle=True, random_state=256)\n",
    "train_index, test_index = next(kf.split(data))"
   ]
  },
  {
   "cell_type": "code",
   "execution_count": 3,
   "id": "3780d313-b671-4213-8fe3-a786d2c14182",
   "metadata": {},
   "outputs": [],
   "source": [
    "data_train_fold = data[train_index]\n",
    "data_test_fold = data[test_index]\n",
    "stream_generator_train = StreamGeneratorReal(data_train_fold)\n",
    "stream_generator_test = StreamGeneratorReal(data_test_fold)"
   ]
  },
  {
   "cell_type": "code",
   "execution_count": 4,
   "id": "4d0fdc62-70ee-46d1-b122-a65c2eab90bd",
   "metadata": {},
   "outputs": [],
   "source": [
    "n_iter = 10000\n",
    "n_samples = 100\n",
    "thresh_tree = -1e-6\n",
    "thresh_leaf = 1e-6\n",
    "thresh_mu = 0.8\n",
    "thresh_sigma = 0.1\n",
    "print_iter = 100\n",
    "time_limit = 600\n",
    "lambd = 0.0001\n",
    "gamma = 0.75"
   ]
  },
  {
   "cell_type": "code",
   "execution_count": 5,
   "id": "06406352-c2e5-4685-9937-b09217bf35cd",
   "metadata": {
    "scrolled": true,
    "tags": []
   },
   "outputs": [
    {
     "name": "stdout",
     "output_type": "stream",
     "text": [
      "iteration : 0\n",
      "iteration : 100\n",
      "iteration : 200\n",
      "iteration : 300\n",
      "iteration : 400\n",
      "iteration : 500\n",
      "iteration : 600\n",
      "iteration : 700\n",
      "iteration : 800\n",
      "iteration : 900\n",
      "iteration : 1000\n",
      "iteration : 1100\n",
      "iteration : 1200\n",
      "iteration : 1300\n",
      "iteration : 1400\n",
      "iteration : 1500\n",
      "iteration : 1600\n",
      "iteration : 1700\n",
      "iteration : 1800\n",
      "iteration : 1900\n",
      "iteration : 2000\n",
      "iteration : 2100\n",
      "iteration : 2200\n",
      "iteration : 2300\n",
      "iteration : 2400\n",
      "iteration : 2500\n",
      "iteration : 2600\n",
      "iteration : 2700\n",
      "iteration : 2800\n",
      "iteration : 2900\n",
      "iteration : 3000\n",
      "iteration : 3100\n",
      "iteration : 3200\n",
      "iteration : 3300\n",
      "iteration : 3400\n",
      "iteration : 3500\n",
      "iteration : 3600\n",
      "iteration : 3700\n",
      "iteration : 3800\n",
      "iteration : 3900\n",
      "iteration : 4000\n",
      "iteration : 4100\n",
      "iteration : 4200\n",
      "iteration : 4300\n",
      "iteration : 4400\n",
      "iteration : 4500\n",
      "iteration : 4600\n",
      "iteration : 4700\n",
      "iteration : 4800\n",
      "iteration : 4900\n",
      "iteration : 5000\n",
      "iteration : 5100\n",
      "iteration : 5200\n",
      "iteration : 5300\n",
      "iteration : 5400\n",
      "iteration : 5500\n",
      "iteration : 5600\n",
      "iteration : 5700\n",
      "iteration : 5800\n",
      "iteration : 5900\n",
      "iteration : 6000\n",
      "iteration : 6100\n",
      "iteration : 6200\n",
      "iteration : 6300\n",
      "iteration : 6400\n",
      "iteration : 6500\n",
      "iteration : 6600\n",
      "iteration : 6700\n",
      "iteration : 6800\n",
      "iteration : 6900\n",
      "iteration : 7000\n",
      "iteration : 7100\n",
      "iteration : 7200\n",
      "iteration : 7300\n",
      "iteration : 7400\n",
      "iteration : 7500\n",
      "iteration : 7600\n",
      "iteration : 7700\n",
      "iteration : 7800\n",
      "iteration : 7900\n",
      "iteration : 8000\n",
      "iteration : 8100\n",
      "iteration : 8200\n",
      "iteration : 8300\n",
      "iteration : 8400\n",
      "iteration : 8500\n",
      "iteration : 8600\n",
      "iteration : 8700\n",
      "iteration : 8800\n",
      "iteration : 8900\n",
      "iteration : 9000\n",
      "iteration : 9100\n",
      "iteration : 9200\n",
      "iteration : 9300\n",
      "iteration : 9400\n",
      "iteration : 9500\n",
      "iteration : 9600\n",
      "iteration : 9700\n",
      "iteration : 9800\n",
      "iteration : 9900\n",
      "execution time : 244.0820\n"
     ]
    }
   ],
   "source": [
    "start_time = time()\n",
    "tsdt = TSDT(stream_generator_train.categories, K, 'gini')\n",
    "node, searchtree = tsdt.run(stream_generator_train, n_iter, n_samples, thresh_tree, thresh_leaf, thresh_mu, thresh_sigma, 'n_visits', lambd, gamma, print_iter, time_limit)\n",
    "print('execution time : %.4f' %(time() - start_time))"
   ]
  },
  {
   "cell_type": "code",
   "execution_count": 6,
   "id": "03ebc05b-36c5-4920-9ecb-4c28b352b213",
   "metadata": {},
   "outputs": [
    {
     "data": {
      "image/png": "[encoded data removed]",
      "text/plain": [
       "Tree('', [Tree('X_9=0', [Tree('X_0=0', [Tree('X_13=0', [Tree('X_5=0', []), Tree('X_5=1', [])]), Tree('X_13=1', [Tree('X_7=0', []), Tree('X_7=1', [])])]), Tree('X_0=1', [Tree('X_16=0', []), Tree('X_16=1', [])])]), Tree('X_9=1', [])])"
      ]
     },
     "execution_count": 6,
     "metadata": {},
     "output_type": "execute_result"
    }
   ],
   "source": [
    "node.tree.plot_tree()"
   ]
  },
  {
   "cell_type": "code",
   "execution_count": 7,
   "id": "798ad6f6-9c4e-4147-93f1-667b063beb4a",
   "metadata": {},
   "outputs": [
    {
     "name": "stdout",
     "output_type": "stream",
     "text": [
      "Number of Leaves: 7\n",
      "Number of Splits: 6\n"
     ]
    }
   ],
   "source": [
    "print('Number of Leaves:', len(node.tree.leaves))\n",
    "print('Number of Splits:', node.depth)"
   ]
  },
  {
   "cell_type": "code",
   "execution_count": 8,
   "id": "da9f1d10-c705-441b-9059-29d8d2f438ea",
   "metadata": {},
   "outputs": [
    {
     "name": "stdout",
     "output_type": "stream",
     "text": [
      "Train Accuracy : 0.786\n",
      "Test Accuracy : 0.766\n"
     ]
    }
   ],
   "source": [
    "print(\"Train Accuracy : %.3f\" %node.test(stream_generator_train, n=stream_generator_train.data.shape[0]))\n",
    "print(\"Test Accuracy : %.3f\" %node.test(stream_generator_test, n=stream_generator_test.data.shape[0]))"
   ]
  },
  {
   "cell_type": "code",
   "execution_count": 9,
   "id": "dbaddcf8-ef55-48b7-a8a8-bf7e2c4d3320",
   "metadata": {},
   "outputs": [
    {
     "data": {
      "image/png": "[encoded data removed]",
      "text/plain": [
       "Tree('', [Tree('X_5=0', [Tree('X_13=0', [Tree('X_9=0', []), Tree('X_9=1', [])]), Tree('X_13=1', [Tree('X_1=0', [Tree('X_15=0', []), Tree('X_15=1', [])]), Tree('X_1=1', [])])]), Tree('X_5=1', [Tree('X_1=0', [Tree('X_9=0', [Tree('X_17=0', []), Tree('X_17=1', [])]), Tree('X_9=1', [])]), Tree('X_1=1', [])])])"
      ]
     },
     "execution_count": 9,
     "metadata": {},
     "output_type": "execute_result"
    }
   ],
   "source": [
    "node = searchtree.infer('max_value')\n",
    "node.tree.plot_tree()"
   ]
  },
  {
   "cell_type": "code",
   "execution_count": 10,
   "id": "689847b8-1174-4556-9f36-a65908c74065",
   "metadata": {},
   "outputs": [
    {
     "name": "stdout",
     "output_type": "stream",
     "text": [
      "Number of Leaves: 9\n",
      "Number of Splits: 8\n"
     ]
    }
   ],
   "source": [
    "print('Number of Leaves:', len(node.tree.leaves))\n",
    "print('Number of Splits:', node.depth)"
   ]
  },
  {
   "cell_type": "code",
   "execution_count": 11,
   "id": "3448862d-0e5e-4971-bd3c-acb7064217f6",
   "metadata": {},
   "outputs": [
    {
     "name": "stdout",
     "output_type": "stream",
     "text": [
      "Train Accuracy : 0.830\n",
      "Test Accuracy : 0.797\n"
     ]
    }
   ],
   "source": [
    "print(\"Train Accuracy : %.3f\" %node.test(stream_generator_train, n=stream_generator_train.data.shape[0]))\n",
    "print(\"Test Accuracy : %.3f\" %node.test(stream_generator_test, n=stream_generator_test.data.shape[0]))"
   ]
  },
  {
   "cell_type": "markdown",
   "id": "64564ca4-5617-4e2a-9251-a882c89f9957",
   "metadata": {},
   "source": [
    "# Car Evaluation"
   ]
  },
  {
   "cell_type": "code",
   "execution_count": 4,
   "id": "d35f5f9e-b700-4674-96fe-e8f378422eb7",
   "metadata": {},
   "outputs": [
    {
     "name": "stdout",
     "output_type": "stream",
     "text": [
      "(1728, 16)\n"
     ]
    }
   ],
   "source": [
    "file = '../data/car-evaluation.csv'\n",
    "data = pd.DataFrame(pd.read_csv(file, sep=\";\")).values\n",
    "np.random.shuffle(data)\n",
    "labels = set(data[:, -1])\n",
    "K = len(labels)\n",
    "print(data.shape)\n",
    "\n",
    "kf = KFold(shuffle=True, random_state=256)\n",
    "train_index, test_index = next(kf.split(data))"
   ]
  },
  {
   "cell_type": "code",
   "execution_count": 5,
   "id": "d9811dca-1553-42b8-972d-329d6b9df180",
   "metadata": {},
   "outputs": [],
   "source": [
    "data_train_fold = data[train_index]\n",
    "data_test_fold = data[test_index]\n",
    "stream_generator_train = StreamGeneratorReal(data_train_fold)\n",
    "stream_generator_test = StreamGeneratorReal(data_test_fold)"
   ]
  },
  {
   "cell_type": "code",
   "execution_count": 6,
   "id": "e64d4126-db9e-42de-81d0-a28efd8fd6fb",
   "metadata": {},
   "outputs": [],
   "source": [
    "n_iter = 10000\n",
    "n_samples = 100\n",
    "thresh_tree = -1e-6\n",
    "thresh_leaf = 1e-6\n",
    "thresh_mu = 0.8\n",
    "thresh_sigma = 0.1\n",
    "print_iter = 100\n",
    "time_limit = 600\n",
    "lambd = 0.0001\n",
    "gamma = 0.75"
   ]
  },
  {
   "cell_type": "code",
   "execution_count": 7,
   "id": "04b58b7b-41f1-4ac1-8491-da44c7be96cc",
   "metadata": {
    "scrolled": true,
    "tags": []
   },
   "outputs": [
    {
     "name": "stdout",
     "output_type": "stream",
     "text": [
      "iteration : 0\n",
      "iteration : 100\n",
      "iteration : 200\n",
      "iteration : 300\n",
      "iteration : 400\n",
      "iteration : 500\n",
      "iteration : 600\n",
      "iteration : 700\n",
      "iteration : 800\n",
      "iteration : 900\n",
      "iteration : 1000\n",
      "iteration : 1100\n",
      "iteration : 1200\n",
      "iteration : 1300\n",
      "iteration : 1400\n",
      "iteration : 1500\n",
      "iteration : 1600\n",
      "iteration : 1700\n",
      "iteration : 1800\n",
      "iteration : 1900\n",
      "iteration : 2000\n",
      "iteration : 2100\n",
      "iteration : 2200\n",
      "iteration : 2300\n",
      "iteration : 2400\n",
      "iteration : 2500\n",
      "iteration : 2600\n",
      "iteration : 2700\n",
      "iteration : 2800\n",
      "iteration : 2900\n",
      "iteration : 3000\n",
      "iteration : 3100\n",
      "iteration : 3200\n",
      "iteration : 3300\n",
      "iteration : 3400\n",
      "iteration : 3500\n",
      "iteration : 3600\n",
      "iteration : 3700\n",
      "iteration : 3800\n",
      "iteration : 3900\n",
      "iteration : 4000\n",
      "iteration : 4100\n",
      "iteration : 4200\n",
      "iteration : 4300\n",
      "iteration : 4400\n",
      "iteration : 4500\n",
      "iteration : 4600\n",
      "iteration : 4700\n",
      "iteration : 4800\n",
      "iteration : 4900\n",
      "iteration : 5000\n",
      "iteration : 5100\n",
      "iteration : 5200\n",
      "iteration : 5300\n",
      "iteration : 5400\n",
      "iteration : 5500\n",
      "iteration : 5600\n",
      "iteration : 5700\n",
      "iteration : 5800\n",
      "iteration : 5900\n",
      "iteration : 6000\n",
      "iteration : 6100\n",
      "iteration : 6200\n",
      "iteration : 6300\n",
      "iteration : 6400\n",
      "iteration : 6500\n",
      "iteration : 6600\n",
      "iteration : 6700\n",
      "iteration : 6800\n",
      "iteration : 6900\n",
      "iteration : 7000\n",
      "iteration : 7100\n",
      "iteration : 7200\n",
      "iteration : 7300\n",
      "iteration : 7400\n",
      "iteration : 7500\n",
      "iteration : 7600\n",
      "iteration : 7700\n",
      "iteration : 7800\n",
      "iteration : 7900\n",
      "iteration : 8000\n",
      "iteration : 8100\n",
      "iteration : 8200\n",
      "iteration : 8300\n",
      "iteration : 8400\n",
      "iteration : 8500\n",
      "iteration : 8600\n",
      "iteration : 8700\n",
      "iteration : 8800\n",
      "iteration : 8900\n",
      "iteration : 9000\n",
      "iteration : 9100\n",
      "iteration : 9200\n",
      "iteration : 9300\n",
      "iteration : 9400\n",
      "iteration : 9500\n",
      "iteration : 9600\n",
      "iteration : 9700\n",
      "iteration : 9800\n",
      "iteration : 9900\n",
      "execution time : 233.6863\n"
     ]
    }
   ],
   "source": [
    "start_time = time()\n",
    "tsdt = TSDT(stream_generator_train.categories, K, 'gini')\n",
    "node, searchtree = tsdt.run(stream_generator_train, n_iter, n_samples, thresh_tree, thresh_leaf, thresh_mu, thresh_sigma, 'n_visits', lambd, gamma, print_iter, time_limit)\n",
    "print('execution time : %.4f' %(time() - start_time))"
   ]
  },
  {
   "cell_type": "code",
   "execution_count": 8,
   "id": "589ff805-855f-4620-b6fb-1c861ea7bdcb",
   "metadata": {},
   "outputs": [
    {
     "data": {
      "image/png": "[encoded data removed]",
      "text/plain": [
       "Tree('', [Tree('X_9=0', [Tree('X_14=0', [Tree('X_4=0', [Tree('X_1=0', [Tree('X_2=0', [Tree('X_5=0', []), Tree('X_5=1', [])]), Tree('X_2=1', [])]), Tree('X_1=1', [])]), Tree('X_4=1', [])]), Tree('X_14=1', [])]), Tree('X_9=1', [])])"
      ]
     },
     "execution_count": 8,
     "metadata": {},
     "output_type": "execute_result"
    }
   ],
   "source": [
    "node.tree.plot_tree()"
   ]
  },
  {
   "cell_type": "code",
   "execution_count": 9,
   "id": "b0cdc3c3-8690-4c77-9aee-ad707c2ac9b6",
   "metadata": {},
   "outputs": [
    {
     "name": "stdout",
     "output_type": "stream",
     "text": [
      "Number of Leaves: 7\n",
      "Number of Splits: 6\n"
     ]
    }
   ],
   "source": [
    "print('Number of Leaves:', len(node.tree.leaves))\n",
    "print('Number of Splits:', node.depth)"
   ]
  },
  {
   "cell_type": "code",
   "execution_count": 10,
   "id": "9a364dde-8ae9-440c-bc4b-a59f41a4295a",
   "metadata": {},
   "outputs": [
    {
     "name": "stdout",
     "output_type": "stream",
     "text": [
      "Train Accuracy : 0.923\n",
      "Test Accuracy : 0.931\n"
     ]
    }
   ],
   "source": [
    "print(\"Train Accuracy : %.3f\" %node.test(stream_generator_train, n=stream_generator_train.data.shape[0]))\n",
    "print(\"Test Accuracy : %.3f\" %node.test(stream_generator_test, n=stream_generator_test.data.shape[0]))"
   ]
  },
  {
   "cell_type": "code",
   "execution_count": 11,
   "id": "dfca884d-cb4c-4519-ad70-ab8ce0799e30",
   "metadata": {},
   "outputs": [
    {
     "data": {
      "image/png": "[encoded data removed]",
      "text/plain": [
       "Tree('', [Tree('X_9=0', [Tree('X_14=0', [Tree('X_4=0', [Tree('X_1=0', [Tree('X_2=0', [Tree('X_5=0', [Tree('X_8=0', []), Tree('X_8=1', [])]), Tree('X_5=1', [])]), Tree('X_2=1', [])]), Tree('X_1=1', [])]), Tree('X_4=1', [])]), Tree('X_14=1', [])]), Tree('X_9=1', [])])"
      ]
     },
     "execution_count": 11,
     "metadata": {},
     "output_type": "execute_result"
    }
   ],
   "source": [
    "node = searchtree.infer('max_value')\n",
    "node.tree.plot_tree()"
   ]
  },
  {
   "cell_type": "code",
   "execution_count": 12,
   "id": "804d4db0-fa84-41bc-9d24-6dbd54768688",
   "metadata": {},
   "outputs": [
    {
     "name": "stdout",
     "output_type": "stream",
     "text": [
      "Number of Leaves: 8\n",
      "Number of Splits: 7\n"
     ]
    }
   ],
   "source": [
    "print('Number of Leaves:', len(node.tree.leaves))\n",
    "print('Number of Splits:', node.depth)"
   ]
  },
  {
   "cell_type": "code",
   "execution_count": 13,
   "id": "e494a985-0ca4-44d1-8d13-18bef8d6786b",
   "metadata": {},
   "outputs": [
    {
     "name": "stdout",
     "output_type": "stream",
     "text": [
      "Train Accuracy : 0.910\n",
      "Test Accuracy : 0.902\n"
     ]
    }
   ],
   "source": [
    "print(\"Train Accuracy : %.3f\" %node.test(stream_generator_train, n=stream_generator_train.data.shape[0]))\n",
    "print(\"Test Accuracy : %.3f\" %node.test(stream_generator_test, n=stream_generator_test.data.shape[0]))"
   ]
  },
  {
   "cell_type": "markdown",
   "id": "4d4eab12-81dc-4990-8c61-072ffe739c75",
   "metadata": {},
   "source": [
    "# COMPAS"
   ]
  },
  {
   "cell_type": "code",
   "execution_count": 2,
   "id": "a9feb967-4b8f-4581-8987-22bfb16f6613",
   "metadata": {},
   "outputs": [
    {
     "name": "stdout",
     "output_type": "stream",
     "text": [
      "(6907, 13)\n"
     ]
    }
   ],
   "source": [
    "file = '../data/compas-binary.csv'\n",
    "data = pd.DataFrame(pd.read_csv(file, sep=\";\")).values\n",
    "np.random.shuffle(data)\n",
    "labels = set(data[:, -1])\n",
    "K = len(labels)\n",
    "print(data.shape)\n",
    "\n",
    "kf = KFold(shuffle=True, random_state=256)\n",
    "train_index, test_index = next(kf.split(data))"
   ]
  },
  {
   "cell_type": "code",
   "execution_count": 3,
   "id": "6755c99b-77e7-48bf-baeb-dfc0b0f020cc",
   "metadata": {},
   "outputs": [],
   "source": [
    "data_train_fold = data[train_index]\n",
    "data_test_fold = data[test_index]\n",
    "stream_generator_train = StreamGeneratorReal(data_train_fold)\n",
    "stream_generator_test = StreamGeneratorReal(data_test_fold)"
   ]
  },
  {
   "cell_type": "code",
   "execution_count": 4,
   "id": "fc1d4e8c-9766-4e3a-8be1-2714fde28908",
   "metadata": {},
   "outputs": [],
   "source": [
    "n_iter = 10000\n",
    "n_samples = 100\n",
    "thresh_tree = -1e-6\n",
    "thresh_leaf = 1e-6\n",
    "thresh_mu = 0.8\n",
    "thresh_sigma = 0.1\n",
    "print_iter = 100\n",
    "time_limit = 600\n",
    "lambd = 0.0001\n",
    "gamma = 0.75"
   ]
  },
  {
   "cell_type": "code",
   "execution_count": 5,
   "id": "895e14c4-14ec-4812-abd9-045202df90c5",
   "metadata": {
    "scrolled": true,
    "tags": []
   },
   "outputs": [
    {
     "name": "stdout",
     "output_type": "stream",
     "text": [
      "iteration : 0\n",
      "iteration : 100\n",
      "iteration : 200\n",
      "iteration : 300\n",
      "iteration : 400\n",
      "iteration : 500\n",
      "iteration : 600\n",
      "iteration : 700\n",
      "iteration : 800\n",
      "iteration : 900\n",
      "iteration : 1000\n",
      "iteration : 1100\n",
      "iteration : 1200\n",
      "iteration : 1300\n",
      "iteration : 1400\n",
      "iteration : 1500\n",
      "iteration : 1600\n",
      "iteration : 1700\n",
      "iteration : 1800\n",
      "iteration : 1900\n",
      "iteration : 2000\n",
      "iteration : 2100\n",
      "iteration : 2200\n",
      "iteration : 2300\n",
      "iteration : 2400\n",
      "iteration : 2500\n",
      "iteration : 2600\n",
      "iteration : 2700\n",
      "iteration : 2800\n",
      "iteration : 2900\n",
      "iteration : 3000\n",
      "iteration : 3100\n",
      "iteration : 3200\n",
      "iteration : 3300\n",
      "iteration : 3400\n",
      "iteration : 3500\n",
      "iteration : 3600\n",
      "iteration : 3700\n",
      "iteration : 3800\n",
      "iteration : 3900\n",
      "iteration : 4000\n",
      "iteration : 4100\n",
      "iteration : 4200\n",
      "iteration : 4300\n",
      "iteration : 4400\n",
      "iteration : 4500\n",
      "iteration : 4600\n",
      "iteration : 4700\n",
      "iteration : 4800\n",
      "iteration : 4900\n",
      "iteration : 5000\n",
      "iteration : 5100\n",
      "iteration : 5200\n",
      "iteration : 5300\n",
      "iteration : 5400\n",
      "iteration : 5500\n",
      "iteration : 5600\n",
      "iteration : 5700\n",
      "iteration : 5800\n",
      "iteration : 5900\n",
      "iteration : 6000\n",
      "iteration : 6100\n",
      "iteration : 6200\n",
      "iteration : 6300\n",
      "iteration : 6400\n",
      "iteration : 6500\n",
      "iteration : 6600\n",
      "iteration : 6700\n",
      "iteration : 6800\n",
      "iteration : 6900\n",
      "iteration : 7000\n",
      "iteration : 7100\n",
      "iteration : 7200\n",
      "iteration : 7300\n",
      "iteration : 7400\n",
      "iteration : 7500\n",
      "iteration : 7600\n",
      "iteration : 7700\n",
      "iteration : 7800\n",
      "iteration : 7900\n",
      "iteration : 8000\n",
      "iteration : 8100\n",
      "iteration : 8200\n",
      "iteration : 8300\n",
      "iteration : 8400\n",
      "iteration : 8500\n",
      "iteration : 8600\n",
      "iteration : 8700\n",
      "iteration : 8800\n",
      "iteration : 8900\n",
      "iteration : 9000\n",
      "iteration : 9100\n",
      "iteration : 9200\n",
      "iteration : 9300\n",
      "iteration : 9400\n",
      "iteration : 9500\n",
      "iteration : 9600\n",
      "iteration : 9700\n",
      "iteration : 9800\n",
      "iteration : 9900\n",
      "execution time : 212.7324\n"
     ]
    }
   ],
   "source": [
    "start_time = time()\n",
    "tsdt = TSDT(stream_generator_train.categories, K, 'gini')\n",
    "node, searchtree = tsdt.run(stream_generator_train, n_iter, n_samples, thresh_tree, thresh_leaf, thresh_mu, thresh_sigma, 'n_visits', lambd, gamma, print_iter, time_limit)\n",
    "print('execution time : %.4f' %(time() - start_time))"
   ]
  },
  {
   "cell_type": "code",
   "execution_count": 6,
   "id": "3daa6058-682f-4016-879e-cb7d8c982006",
   "metadata": {},
   "outputs": [
    {
     "data": {
      "image/png": "[encoded data removed]",
      "text/plain": [
       "Tree('', [Tree('X_7=0', [Tree('X_11=0', []), Tree('X_11=1', [])]), Tree('X_7=1', [Tree('X_5=0', []), Tree('X_5=1', [Tree('X_8=0', [Tree('X_11=0', []), Tree('X_11=1', [])]), Tree('X_8=1', [])])])])"
      ]
     },
     "execution_count": 6,
     "metadata": {},
     "output_type": "execute_result"
    }
   ],
   "source": [
    "node.tree.plot_tree()"
   ]
  },
  {
   "cell_type": "code",
   "execution_count": 7,
   "id": "e02d8b5a-9cd4-4094-8f72-d982452b645e",
   "metadata": {},
   "outputs": [
    {
     "name": "stdout",
     "output_type": "stream",
     "text": [
      "Number of Leaves: 6\n",
      "Number of Splits: 5\n"
     ]
    }
   ],
   "source": [
    "print('Number of Leaves:', len(node.tree.leaves))\n",
    "print('Number of Splits:', node.depth)"
   ]
  },
  {
   "cell_type": "code",
   "execution_count": 8,
   "id": "a9873e82-74e4-4228-b42a-6d2886048e62",
   "metadata": {},
   "outputs": [
    {
     "name": "stdout",
     "output_type": "stream",
     "text": [
      "Train Accuracy : 0.654\n",
      "Test Accuracy : 0.659\n"
     ]
    }
   ],
   "source": [
    "print(\"Train Accuracy : %.3f\" %node.test(stream_generator_train, n=stream_generator_train.data.shape[0]))\n",
    "print(\"Test Accuracy : %.3f\" %node.test(stream_generator_test, n=stream_generator_test.data.shape[0]))"
   ]
  },
  {
   "cell_type": "code",
   "execution_count": 9,
   "id": "8229fea5-2ae8-48c5-911c-4b583b275ef2",
   "metadata": {},
   "outputs": [
    {
     "data": {
      "image/png": "[encoded data removed]",
      "text/plain": [
       "Tree('', [Tree('X_7=0', []), Tree('X_7=1', [Tree('X_5=0', []), Tree('X_5=1', [Tree('X_8=0', [Tree('X_2=0', [Tree('X_3=0', [Tree('X_11=0', []), Tree('X_11=1', [])]), Tree('X_3=1', [])]), Tree('X_2=1', [])]), Tree('X_8=1', [])])])])"
      ]
     },
     "execution_count": 9,
     "metadata": {},
     "output_type": "execute_result"
    }
   ],
   "source": [
    "node = searchtree.infer('max_value')\n",
    "node.tree.plot_tree()"
   ]
  },
  {
   "cell_type": "code",
   "execution_count": 10,
   "id": "21d4c2f3-7631-4a82-8c6d-fb7abd8af8af",
   "metadata": {},
   "outputs": [
    {
     "name": "stdout",
     "output_type": "stream",
     "text": [
      "Number of Leaves: 7\n",
      "Number of Splits: 6\n"
     ]
    }
   ],
   "source": [
    "print('Number of Leaves:', len(node.tree.leaves))\n",
    "print('Number of Splits:', node.depth)"
   ]
  },
  {
   "cell_type": "code",
   "execution_count": 11,
   "id": "0e5df60e-9657-4109-9a66-57e75921dd07",
   "metadata": {},
   "outputs": [
    {
     "name": "stdout",
     "output_type": "stream",
     "text": [
      "Train Accuracy : 0.662\n",
      "Test Accuracy : 0.667\n"
     ]
    }
   ],
   "source": [
    "print(\"Train Accuracy : %.3f\" %node.test(stream_generator_train, n=stream_generator_train.data.shape[0]))\n",
    "print(\"Test Accuracy : %.3f\" %node.test(stream_generator_test, n=stream_generator_test.data.shape[0]))"
   ]
  },
  {
   "cell_type": "markdown",
   "id": "f997c07e-cb42-467f-a832-42dcf3e41cbf",
   "metadata": {},
   "source": [
    "# FICO"
   ]
  },
  {
   "cell_type": "code",
   "execution_count": 2,
   "id": "520bf777-21e7-4c36-b929-44554954e00f",
   "metadata": {},
   "outputs": [
    {
     "name": "stdout",
     "output_type": "stream",
     "text": [
      "(10459, 18)\n"
     ]
    }
   ],
   "source": [
    "file = '../data/fico_binary.csv'\n",
    "data = pd.DataFrame(pd.read_csv(file, sep=\";\")).values\n",
    "np.random.shuffle(data)\n",
    "labels = set(data[:, -1])\n",
    "K = len(labels)\n",
    "print(data.shape)\n",
    "\n",
    "kf = KFold(shuffle=True, random_state=256)\n",
    "train_index, test_index = next(kf.split(data))"
   ]
  },
  {
   "cell_type": "code",
   "execution_count": 3,
   "id": "d938467d-cc6d-476d-b8c4-2931ab1ae956",
   "metadata": {},
   "outputs": [],
   "source": [
    "data_train_fold = data[train_index]\n",
    "data_test_fold = data[test_index]\n",
    "stream_generator_train = StreamGeneratorReal(data_train_fold)\n",
    "stream_generator_test = StreamGeneratorReal(data_test_fold)"
   ]
  },
  {
   "cell_type": "code",
   "execution_count": 4,
   "id": "42916abe-ca19-42af-9a72-bcbfe4da4d50",
   "metadata": {},
   "outputs": [],
   "source": [
    "n_iter = 10000\n",
    "n_samples = 100\n",
    "thresh_tree = -1e-6\n",
    "thresh_leaf = 1e-6\n",
    "thresh_mu = 0.8\n",
    "thresh_sigma = 0.1\n",
    "print_iter = 100\n",
    "time_limit = 600\n",
    "lambd = 0.0001\n",
    "gamma = 0.75"
   ]
  },
  {
   "cell_type": "code",
   "execution_count": 5,
   "id": "3d407bbd-a8fc-4d0f-8ba8-fb15b9b5a1a3",
   "metadata": {
    "scrolled": true,
    "tags": []
   },
   "outputs": [
    {
     "name": "stdout",
     "output_type": "stream",
     "text": [
      "iteration : 0\n",
      "iteration : 100\n",
      "iteration : 200\n",
      "iteration : 300\n",
      "iteration : 400\n",
      "iteration : 500\n",
      "iteration : 600\n",
      "iteration : 700\n",
      "iteration : 800\n",
      "iteration : 900\n",
      "iteration : 1000\n",
      "iteration : 1100\n",
      "iteration : 1200\n",
      "iteration : 1300\n",
      "iteration : 1400\n",
      "iteration : 1500\n",
      "iteration : 1600\n",
      "iteration : 1700\n",
      "iteration : 1800\n",
      "iteration : 1900\n",
      "iteration : 2000\n",
      "iteration : 2100\n",
      "iteration : 2200\n",
      "iteration : 2300\n",
      "iteration : 2400\n",
      "iteration : 2500\n",
      "iteration : 2600\n",
      "iteration : 2700\n",
      "iteration : 2800\n",
      "iteration : 2900\n",
      "iteration : 3000\n",
      "iteration : 3100\n",
      "iteration : 3200\n",
      "iteration : 3300\n",
      "iteration : 3400\n",
      "iteration : 3500\n",
      "iteration : 3600\n",
      "iteration : 3700\n",
      "iteration : 3800\n",
      "iteration : 3900\n",
      "iteration : 4000\n",
      "iteration : 4100\n",
      "iteration : 4200\n",
      "iteration : 4300\n",
      "iteration : 4400\n",
      "iteration : 4500\n",
      "iteration : 4600\n",
      "iteration : 4700\n",
      "iteration : 4800\n",
      "iteration : 4900\n",
      "iteration : 5000\n",
      "iteration : 5100\n",
      "iteration : 5200\n",
      "iteration : 5300\n",
      "iteration : 5400\n",
      "iteration : 5500\n",
      "iteration : 5600\n",
      "iteration : 5700\n",
      "iteration : 5800\n",
      "iteration : 5900\n",
      "iteration : 6000\n",
      "iteration : 6100\n",
      "iteration : 6200\n",
      "iteration : 6300\n",
      "iteration : 6400\n",
      "iteration : 6500\n",
      "iteration : 6600\n",
      "iteration : 6700\n",
      "iteration : 6800\n",
      "iteration : 6900\n",
      "iteration : 7000\n",
      "iteration : 7100\n",
      "iteration : 7200\n",
      "iteration : 7300\n",
      "iteration : 7400\n",
      "iteration : 7500\n",
      "iteration : 7600\n",
      "iteration : 7700\n",
      "iteration : 7800\n",
      "iteration : 7900\n",
      "iteration : 8000\n",
      "iteration : 8100\n",
      "iteration : 8200\n",
      "iteration : 8300\n",
      "iteration : 8400\n",
      "iteration : 8500\n",
      "iteration : 8600\n",
      "iteration : 8700\n",
      "iteration : 8800\n",
      "iteration : 8900\n",
      "iteration : 9000\n",
      "iteration : 9100\n",
      "iteration : 9200\n",
      "iteration : 9300\n",
      "iteration : 9400\n",
      "iteration : 9500\n",
      "iteration : 9600\n",
      "iteration : 9700\n",
      "iteration : 9800\n",
      "iteration : 9900\n",
      "execution time : 223.8847\n"
     ]
    }
   ],
   "source": [
    "start_time = time()\n",
    "tsdt = TSDT(stream_generator_train.categories, K, 'gini')\n",
    "node, searchtree = tsdt.run(stream_generator_train, n_iter, n_samples, thresh_tree, thresh_leaf, thresh_mu, thresh_sigma, 'n_visits', lambd, gamma, print_iter, time_limit)\n",
    "print('execution time : %.4f' %(time() - start_time))"
   ]
  },
  {
   "cell_type": "code",
   "execution_count": 6,
   "id": "75526623-2354-44ee-a32b-4ae824caa67e",
   "metadata": {},
   "outputs": [
    {
     "data": {
      "image/png": "[encoded data removed]",
      "text/plain": [
       "Tree('', [Tree('X_5=0', []), Tree('X_5=1', [Tree('X_2=0', []), Tree('X_2=1', [Tree('X_13=0', [Tree('X_1=0', []), Tree('X_1=1', [])]), Tree('X_13=1', [])])])])"
      ]
     },
     "execution_count": 6,
     "metadata": {},
     "output_type": "execute_result"
    }
   ],
   "source": [
    "node.tree.plot_tree()"
   ]
  },
  {
   "cell_type": "code",
   "execution_count": 7,
   "id": "5de60a4b-34bf-4051-9e24-c86786953f06",
   "metadata": {},
   "outputs": [
    {
     "name": "stdout",
     "output_type": "stream",
     "text": [
      "Number of Leaves: 5\n",
      "Number of Splits: 4\n"
     ]
    }
   ],
   "source": [
    "print('Number of Leaves:', len(node.tree.leaves))\n",
    "print('Number of Splits:', node.depth)"
   ]
  },
  {
   "cell_type": "code",
   "execution_count": 8,
   "id": "80243a0b-272b-46c9-b3b4-4116112e2a5a",
   "metadata": {},
   "outputs": [
    {
     "name": "stdout",
     "output_type": "stream",
     "text": [
      "Train Accuracy : 0.699\n",
      "Test Accuracy : 0.705\n"
     ]
    }
   ],
   "source": [
    "print(\"Train Accuracy : %.3f\" %node.test(stream_generator_train, n=stream_generator_train.data.shape[0]))\n",
    "print(\"Test Accuracy : %.3f\" %node.test(stream_generator_test, n=stream_generator_test.data.shape[0]))"
   ]
  },
  {
   "cell_type": "code",
   "execution_count": 9,
   "id": "90d3742c-15a2-401d-aa37-aee43a7cd9f3",
   "metadata": {},
   "outputs": [
    {
     "data": {
      "image/png": "[encoded data removed]",
      "text/plain": [
       "Tree('', [Tree('X_9=0', []), Tree('X_9=1', [Tree('X_5=0', []), Tree('X_5=1', [Tree('X_0=0', [Tree('X_15=0', []), Tree('X_15=1', [Tree('X_13=0', []), Tree('X_13=1', [])])]), Tree('X_0=1', [])])])])"
      ]
     },
     "execution_count": 9,
     "metadata": {},
     "output_type": "execute_result"
    }
   ],
   "source": [
    "node = searchtree.infer('max_value')\n",
    "node.tree.plot_tree()"
   ]
  },
  {
   "cell_type": "code",
   "execution_count": 10,
   "id": "52f4f051-de31-41c4-84ac-0cefbf60a045",
   "metadata": {},
   "outputs": [
    {
     "name": "stdout",
     "output_type": "stream",
     "text": [
      "Number of Leaves: 6\n",
      "Number of Splits: 5\n"
     ]
    }
   ],
   "source": [
    "print('Number of Leaves:', len(node.tree.leaves))\n",
    "print('Number of Splits:', node.depth)"
   ]
  },
  {
   "cell_type": "code",
   "execution_count": 11,
   "id": "3adfff8e-26d9-4e52-8e33-68e376fcd15c",
   "metadata": {},
   "outputs": [
    {
     "name": "stdout",
     "output_type": "stream",
     "text": [
      "Train Accuracy : 0.700\n",
      "Test Accuracy : 0.713\n"
     ]
    }
   ],
   "source": [
    "print(\"Train Accuracy : %.3f\" %node.test(stream_generator_train, n=stream_generator_train.data.shape[0]))\n",
    "print(\"Test Accuracy : %.3f\" %node.test(stream_generator_test, n=stream_generator_test.data.shape[0]))"
   ]
  },
  {
   "cell_type": "code",
   "execution_count": null,
   "id": "0e1c2fe4-2b87-4ffc-af89-1e1b50ad0252",
   "metadata": {},
   "outputs": [],
   "source": []
  }
 ],
 "metadata": {
  "kernelspec": {
   "display_name": "Python 3 (ipykernel)",
   "language": "python",
   "name": "python3"
  },
  "language_info": {
   "codemirror_mode": {
    "name": "ipython",
    "version": 3
   },
   "file_extension": ".py",
   "mimetype": "text/x-python",
   "name": "python",
   "nbconvert_exporter": "python",
   "pygments_lexer": "ipython3",
   "version": "3.8.11"
  }
 },
 "nbformat": 4,
 "nbformat_minor": 5
}
